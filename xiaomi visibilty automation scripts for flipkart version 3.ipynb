{
 "cells": [
  {
   "cell_type": "code",
   "execution_count": 47,
   "id": "8eba919f",
   "metadata": {},
   "outputs": [
    {
     "name": "stdout",
     "output_type": "stream",
     "text": [
      "Give the location of the file followed by .csv extensionsC:\\Users\\HP\\Downloads\\Flipkart_keyword_28thOct.csv\n"
     ]
    },
    {
     "name": "stderr",
     "output_type": "stream",
     "text": [
      "C:\\Users\\HP\\AppData\\Local\\Temp\\ipykernel_8076\\2472411748.py:16: FutureWarning: The default value of regex will change from True to False in a future version. In addition, single character regular expressions will *not* be treated as literal strings when regex=True.\n",
      "  d[\"Product Link\"]=d[\"Product Link\"].str.replace(\"[\",\"\")\n",
      "C:\\Users\\HP\\AppData\\Local\\Temp\\ipykernel_8076\\2472411748.py:17: FutureWarning: The default value of regex will change from True to False in a future version. In addition, single character regular expressions will *not* be treated as literal strings when regex=True.\n",
      "  d[\"Product Link\"]=d[\"Product Link\"].str.replace(\"]\",\"\")\n"
     ]
    },
    {
     "name": "stdout",
     "output_type": "stream",
     "text": [
      "file run sucessfully\n"
     ]
    }
   ],
   "source": [
    "import pandas as pd\n",
    "import re\n",
    "s1=input(\"Give the location of the file followed by .csv extensions\")\n",
    "data=pd.read_csv(s1)\n",
    "na=[\"_root\",'Data Crawl Completion Time(UTC)', 'Crawl Source Input', 'Brand Input']\n",
    "ls=[]\n",
    "for column in data.columns[1:len(df.columns)-3:2]:\n",
    "    if column not in na:\n",
    "        for row in data[column]:\n",
    "            if type(row)==str:\n",
    "                ls.append(row)\n",
    "d=pd.DataFrame()\n",
    "d[\"Product Link\"]=[str(x) for x in ls]\n",
    "ls1=[\"Redmi\",\"Samsung\",\"Poco\",\"Realme\",\"Oneplus\",\"Apple\",\"Narzo\",\"Infinix\",\"Iqoo\",\"Tecno\",\"Xiaomi\",\"Oppo\",\"Vivo\",\"moto\"]\n",
    "brand=[x.lower() for x in ls1]\n",
    "d[\"Product Link\"]=d[\"Product Link\"].str.replace(\"[\",\"\")\n",
    "d[\"Product Link\"]=d[\"Product Link\"].str.replace(\"]\",\"\")\n",
    "sub1 = \".com/\"\n",
    "sub2 =\"/p/\"\n",
    "sku=[]\n",
    " \n",
    "s=str(re.escape(sub1))\n",
    " \n",
    "e=str(re.escape(sub2))\n",
    "for x in d[\"Product Link\"]:\n",
    "    res=re.findall(s+\"(.*)\"+e,x)\n",
    "    sku.append(res)\n",
    "for i,e in enumerate(d[\"Product Link\"]):\n",
    "    d.loc[i,[\"SKU\"]]=sku[i]\n",
    "d[\"SKU\"]=d[\"SKU\"].str.replace(\"-\",\" \")\n",
    "d[\"Brand\"]=\"\"\n",
    "for b in brand:\n",
    "    for i,s in enumerate(d[\"SKU\"]):\n",
    "        if b in s:\n",
    "            d.loc[i,[\"Brand\"]]=b\n",
    "data=pd.read_csv(s1)\n",
    "d[\"root\"]=data[\"_root\"][0]\n",
    "d[\"date\"]=data[\"Data Crawl Completion Time(UTC)\"][0]\n",
    "d[\"Source\"]=\"Flipkart\"\n",
    "d[\"Type\"]=\"Card\"\n",
    "d[\"Class\"]=\"Keyword Search\"\n",
    "\n",
    "d.to_csv(\"output.csv\",index=False)\n",
    "print(\"file run sucessfully\")"
   ]
  },
  {
   "cell_type": "code",
   "execution_count": null,
   "id": "fa4f0062",
   "metadata": {},
   "outputs": [],
   "source": []
  }
 ],
 "metadata": {
  "kernelspec": {
   "display_name": "Python 3 (ipykernel)",
   "language": "python",
   "name": "python3"
  },
  "language_info": {
   "codemirror_mode": {
    "name": "ipython",
    "version": 3
   },
   "file_extension": ".py",
   "mimetype": "text/x-python",
   "name": "python",
   "nbconvert_exporter": "python",
   "pygments_lexer": "ipython3",
   "version": "3.9.12"
  }
 },
 "nbformat": 4,
 "nbformat_minor": 5
}
